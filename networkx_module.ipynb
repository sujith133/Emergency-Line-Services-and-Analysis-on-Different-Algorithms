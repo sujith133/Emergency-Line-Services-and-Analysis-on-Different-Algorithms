{
 "cells": [
  {
   "cell_type": "code",
   "execution_count": 2,
   "id": "5e7afd5f",
   "metadata": {},
   "outputs": [
    {
     "name": "stdout",
     "output_type": "stream",
     "text": [
      "done.....\n"
     ]
    }
   ],
   "source": [
    "import matplotlib.pyplot as plt\n",
    "import numpy\n",
    "import geopandas as gpd\n",
    "import shapely\n",
    "import networkx as nx\n",
    "import folium\n",
    "print(\"done.....\")"
   ]
  },
  {
   "cell_type": "code",
   "execution_count": 6,
   "id": "f0abafdb",
   "metadata": {},
   "outputs": [
    {
     "data": {
      "image/png": "[encoded data removed]",
      "text/plain": [
       "<Figure size 1440x1440 with 1 Axes>"
      ]
     },
     "metadata": {
      "needs_background": "light"
     },
     "output_type": "display_data"
    },
    {
     "data": {
      "text/plain": [
       "<Geographic 2D CRS: EPSG:4326>\n",
       "Name: WGS 84\n",
       "Axis Info [ellipsoidal]:\n",
       "- Lat[north]: Geodetic latitude (degree)\n",
       "- Lon[east]: Geodetic longitude (degree)\n",
       "Area of Use:\n",
       "- name: World.\n",
       "- bounds: (-180.0, -90.0, 180.0, 90.0)\n",
       "Datum: World Geodetic System 1984 ensemble\n",
       "- Ellipsoid: WGS 84\n",
       "- Prime Meridian: Greenwich"
      ]
     },
     "execution_count": 6,
     "metadata": {},
     "output_type": "execute_result"
    }
   ],
   "source": [
    "#road= gpd.read_file('roads.shp')\n",
    "#roadjn= gpd.read_file('roads_ND_Junctions.shp')\n",
    "\n",
    "hsp= gpd.read_file('hsp1.shp')\n",
    "\n",
    "fig, ax = plt.subplots(figsize = (20,20))\n",
    "hsp.plot(ax=ax)\n",
    "\n",
    "\n",
    "#roadjn.plot(ax=ax)\n",
    "#road.plot(ax=ax)\n",
    "\n",
    "\n",
    "plt.show()\n",
    "# road['geometry']\n",
    "#road.crs\n",
    "#roadjn.crs\n",
    "hsp.crs\n",
    "\n"
   ]
  },
  {
   "cell_type": "code",
   "execution_count": 7,
   "id": "5936a7cb",
   "metadata": {},
   "outputs": [],
   "source": [
    "#yy=shapely.geometry.asMultilines(road['geometry'])"
   ]
  },
  {
   "cell_type": "code",
   "execution_count": null,
   "id": "21345bd6",
   "metadata": {},
   "outputs": [],
   "source": [
    "l1=[]\n",
    "l2=[]\n"
   ]
  },
  {
   "cell_type": "code",
   "execution_count": 6,
   "id": "7fb5259b",
   "metadata": {},
   "outputs": [
    {
     "name": "stdout",
     "output_type": "stream",
     "text": [
      "Dijkstra\n",
      "['1', '2', '4', '6']\n",
      "A-star\n",
      "['6', '4', '2', '1']\n",
      "bellman-ford\n",
      "(9, ['6', '4', '2', '1'])\n"
     ]
    }
   ],
   "source": [
    "G = nx.Graph()\n",
    "e = [('1', '2', 3),('1', '3', 5),('1', '4', 9),('2', '3', 3),\n",
    "     ('2', '4', 4),('2', '5', 7),('3', '5', 6),('3', '4', 3),\n",
    "     ('3', '6', 8),('4', '5', 2),('4', '6', 2),('5', '6', 5),]\n",
    "G.add_weighted_edges_from(e)\n",
    "a='6'\n",
    "b='1'\n",
    "print(\"Dijkstra\")\n",
    "print(nx.dijkstra_path(G, '1', '6'))\n",
    "print(\"A-star\")\n",
    "print(nx.astar_path(G,a,b))\n",
    "print(\"bellman-ford\")\n",
    "print(nx.single_source_bellman_ford(G, '6', '1'))"
   ]
  },
  {
   "cell_type": "code",
   "execution_count": null,
   "id": "af0a60d9",
   "metadata": {},
   "outputs": [],
   "source": []
  },
  {
   "cell_type": "code",
   "execution_count": null,
   "id": "336e3103",
   "metadata": {},
   "outputs": [],
   "source": []
  },
  {
   "cell_type": "code",
   "execution_count": null,
   "id": "6bce7d0a",
   "metadata": {},
   "outputs": [],
   "source": []
  }
 ],
 "metadata": {
  "kernelspec": {
   "display_name": "Python 3",
   "language": "python",
   "name": "python3"
  },
  "language_info": {
   "codemirror_mode": {
    "name": "ipython",
    "version": 3
   },
   "file_extension": ".py",
   "mimetype": "text/x-python",
   "name": "python",
   "nbconvert_exporter": "python",
   "pygments_lexer": "ipython3",
   "version": "3.7.11"
  }
 },
 "nbformat": 4,
 "nbformat_minor": 5
}
